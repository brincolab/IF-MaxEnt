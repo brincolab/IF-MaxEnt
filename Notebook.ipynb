{
 "cells": [
  {
   "cell_type": "code",
   "execution_count": 68,
   "metadata": {},
   "outputs": [],
   "source": [
    "import numpy as np\n",
    "import networkx as nx\n",
    "import matplotlib.pyplot as plt\n",
    "from scipy.io import loadmat,savemat\n",
    "from os import system"
   ]
  },
  {
   "cell_type": "code",
   "execution_count": 71,
   "metadata": {},
   "outputs": [],
   "source": [
    "# Weight matrix generation function\n",
    "# mode = 0  k-1-param1-k-param1-k+1   k-2-param2-k-param2-k+2\n",
    "# mode = 1  SmallWorld param1 = K param2 = rewire param3 = w\n",
    "def generate_matrix(mode,N,param1,param2,param3,filename):\n",
    "    mat = np.zeros((N,N))\n",
    "    if mode==0:\n",
    "        for i in range(N):\n",
    "            for j in range(N):\n",
    "                if abs(i-j)==1:\n",
    "                    mat[i][j]=param1\n",
    "                elif abs(i-j)==2:\n",
    "                    mat[i][j]=param2\n",
    "    elif mode==1:\n",
    "        mat = nx.to_numpy_array(nx.watts_strogatz_graph(N,param1,param2))*param3\n",
    "        print(N,param1,param2,param3)\n",
    "    np.savetxt(\"Weights/{}.txt\".format(filename),mat,fmt='%.3f')\n",
    "    \n",
    "# Raster Loading and splitting\n",
    "def load_raster(N,filename):\n",
    "    raster = np.zeros((N,100000))\n",
    "    with open(\"Rasters/{}.txt\".format(filename)) as O:\n",
    "        lc = 0\n",
    "        for line in O:\n",
    "            raster[lc,list(map(int,line.strip().split()))]=1\n",
    "            lc+=1\n",
    "    return raster\n",
    "\n",
    "def save_matlab(N,M,infilename,outfilename):\n",
    "    raster = load_raster(N,infilename)\n",
    "    savemat(\"MatlabRasters/{}.mat\".format(outfilename),{\"binnedSpikes\":raster[np.random.choice(range(N),M,replace=False),:]})\n",
    "    print(\"Ajustar('MatlabRasters','MaxEntParams','{}.mat');\".format(outfilename))\n",
    "\n",
    "\n",
    "def run_matlab(filename):\n",
    "    system(\"\"\"matlab -nodisplay -nosplash -nodesktop -r \"cd('MaxEntCode');Ajustar('../MatlabRasters','../MaxEntParams','{}.mat');exit()\" \"\"\".format(filename))\n",
    "    \n",
    "def load_params(N,infilename):\n",
    "    ising = loadmat(\"MaxEntParams/{}.mat\".format(infilename))\n",
    "    params = ising[\"params\"] # N , N*(N-1)/2\n",
    "    #print(params[:,0],len(params[:,0]),N)\n",
    "    J = np.zeros((N,N)) #FullMatrix for indexing\n",
    "    J[np.triu_indices(N, 1)] = params[:,0][N:] #UpperTri Matrix\n",
    "    H = params[:,0][:N] #<h,sigma>\n",
    "    return H,J\n",
    "    \n",
    "    "
   ]
  },
  {
   "cell_type": "code",
   "execution_count": 73,
   "metadata": {},
   "outputs": [
    {
     "name": "stdout",
     "output_type": "stream",
     "text": [
      "25 4 0.2 0.2\n",
      "Ajustar('MatlabRasters','MaxEntParams','nuevo2.mat');\n"
     ]
    }
   ],
   "source": [
    "# Testing\n",
    "def run_everything(infilename,outfilename):\n",
    "    generate_matrix(1,25,4,0.2,0.2,infilename)\n",
    "    system(\"./BMS 25 Weights/matriz1.txt Rasters/{}.txt\".format(outfilename))\n",
    "    ras=load_raster(25,outfilename)\n",
    "    #plt.figure(figsize=(25,3))\n",
    "    #plt.imshow(ras,aspect=\"auto\")\n",
    "    save_matlab(25,20,outfilename,outfilename)\n",
    "    run_matlab(outfilename)\n",
    "    h,j = load_params(20,outfilename)\n",
    "    #print (h)\n",
    "    #print (j)\n",
    "run_everything(\"matriz1\",\"nuevo2\")"
   ]
  },
  {
   "cell_type": "code",
   "execution_count": null,
   "metadata": {},
   "outputs": [],
   "source": []
  }
 ],
 "metadata": {
  "kernelspec": {
   "display_name": "Python 3",
   "language": "python",
   "name": "python3"
  },
  "language_info": {
   "codemirror_mode": {
    "name": "ipython",
    "version": 3
   },
   "file_extension": ".py",
   "mimetype": "text/x-python",
   "name": "python",
   "nbconvert_exporter": "python",
   "pygments_lexer": "ipython3",
   "version": "3.6.7"
  }
 },
 "nbformat": 4,
 "nbformat_minor": 2
}
